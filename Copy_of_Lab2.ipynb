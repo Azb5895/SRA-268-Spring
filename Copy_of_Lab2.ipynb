{
  "nbformat": 4,
  "nbformat_minor": 0,
  "metadata": {
    "colab": {
      "name": "Copy of Lab2.ipynb",
      "provenance": [],
      "collapsed_sections": [],
      "include_colab_link": true
    },
    "kernelspec": {
      "name": "python3",
      "display_name": "Python 3"
    }
  },
  "cells": [
    {
      "cell_type": "markdown",
      "metadata": {
        "id": "view-in-github",
        "colab_type": "text"
      },
      "source": [
        "<a href=\"https://colab.research.google.com/github/Azb5895/SRA-268-Spring/blob/master/Copy_of_Lab2.ipynb\" target=\"_parent\"><img src=\"https://colab.research.google.com/assets/colab-badge.svg\" alt=\"Open In Colab\"/></a>"
      ]
    },
    {
      "cell_type": "markdown",
      "metadata": {
        "id": "6sOc4Uyr4U-Z",
        "colab_type": "text"
      },
      "source": [
        "## Graph Types"
      ]
    },
    {
      "cell_type": "markdown",
      "metadata": {
        "id": "0zZdVLAd5CYr",
        "colab_type": "text"
      },
      "source": [
        "Creator\n",
        "* Alyssa Boord "
      ]
    },
    {
      "cell_type": "markdown",
      "metadata": {
        "id": "g-r6Clq45Hn4",
        "colab_type": "text"
      },
      "source": [
        "### Deviation\n"
      ]
    },
    {
      "cell_type": "markdown",
      "metadata": {
        "id": "2gorxo6E7A0t",
        "colab_type": "text"
      },
      "source": [
        "![alt text](https://raw.githubusercontent.com/Azb5895/SRA-268-Spring/master/GraphImage/spine%20chart.PNG)"
      ]
    },
    {
      "cell_type": "markdown",
      "metadata": {
        "id": "w6bZ_NEi7E3w",
        "colab_type": "text"
      },
      "source": [
        "#### What is this telling us?"
      ]
    },
    {
      "cell_type": "markdown",
      "metadata": {
        "id": "95L-spaC7QHF",
        "colab_type": "text"
      },
      "source": [
        "The chart representing deviation is a spine chart. This chart has split the total number of losing points and the total number of winning points by year. In this graph there is a fixed zero point where each side of the graph starts. This graph uses positioning and length so that viewers can make conculsions. In this graph we can see that the first year and the last year recorded have both smaller total losing points and total winning points. We can also see that for every year that has high total winning points it has high total losing points as well. "
      ]
    },
    {
      "cell_type": "markdown",
      "metadata": {
        "id": "YgXyXjmz7cDP",
        "colab_type": "text"
      },
      "source": [
        "### Correlation\n"
      ]
    },
    {
      "cell_type": "markdown",
      "metadata": {
        "id": "dljjONNi7jmj",
        "colab_type": "text"
      },
      "source": [
        "#### What is this telling us?"
      ]
    },
    {
      "cell_type": "markdown",
      "metadata": {
        "id": "H6MN0zpkH7b9",
        "colab_type": "text"
      },
      "source": [
        "![alt text](https://raw.githubusercontent.com/Azb5895/SRA-268-Spring/master/GraphImage/C%20Graph.PNG)"
      ]
    },
    {
      "cell_type": "markdown",
      "metadata": {
        "id": "PwZEZrFB7laG",
        "colab_type": "text"
      },
      "source": [
        "The graph representing correlation is a scatterplot graph. This graph is showing the relationship between the year of the game and the total win points through a scatterplot. This graph uses the space and positioning between data points so that a viewer can easily see trends in the data such as an upward trend from 2015 to 2016 and 2017. With this graph we can also easily pick out the low points of the graph such as at 1985 and 2000 and the high points such as 1989 and 2002. "
      ]
    },
    {
      "cell_type": "markdown",
      "metadata": {
        "id": "MqUdI-uL7r2s",
        "colab_type": "text"
      },
      "source": [
        "### Ranking\n"
      ]
    },
    {
      "cell_type": "markdown",
      "metadata": {
        "id": "WvkUuhbfKOdg",
        "colab_type": "text"
      },
      "source": [
        "![alt text](https://raw.githubusercontent.com/Azb5895/SRA-268-Spring/master/GraphImage/ordered%20bar.PNG)"
      ]
    },
    {
      "cell_type": "markdown",
      "metadata": {
        "id": "lCAYtfza7yTq",
        "colab_type": "text"
      },
      "source": [
        "#### What is this telling us?"
      ]
    },
    {
      "cell_type": "markdown",
      "metadata": {
        "id": "MyuciD277ygU",
        "colab_type": "text"
      },
      "source": [
        "This graph is an ordered bar chart and is an example of ranking. This graph tells us helps us easily identify where the years are that have the most points are such as 1989 and 2017 and where the years that have the leat points are such as 2000 and 1985. This graph uses both positioning by putting the data points in order from greatest to least and height by showing the values through a bar chart that is easy to interpret. "
      ]
    },
    {
      "cell_type": "markdown",
      "metadata": {
        "id": "dGDGl8-G7y8Y",
        "colab_type": "text"
      },
      "source": [
        "### Distribution\n"
      ]
    },
    {
      "cell_type": "markdown",
      "metadata": {
        "id": "_6SOzhrQ76zH",
        "colab_type": "text"
      },
      "source": [
        "#### What is this telling us?"
      ]
    },
    {
      "cell_type": "markdown",
      "metadata": {
        "id": "0IL1SrJKPpsB",
        "colab_type": "text"
      },
      "source": [
        "![alt text](https://raw.githubusercontent.com/Azb5895/SRA-268-Spring/master/GraphImage/Histogram.PNG)"
      ]
    },
    {
      "cell_type": "markdown",
      "metadata": {
        "id": "HBWqsS_g767h",
        "colab_type": "text"
      },
      "source": [
        "The graph that is used as an example of distribution is a histogram. This graph examines academic year and the total lose points of that year. This graph mostly focuses on the height of the data points to show what years had the most combined losing points rather than how these points are spaces out like they would be in a scatterplot. "
      ]
    },
    {
      "cell_type": "markdown",
      "metadata": {
        "id": "wQsDThk677Fy",
        "colab_type": "text"
      },
      "source": [
        "### Change over Time\n"
      ]
    },
    {
      "cell_type": "markdown",
      "metadata": {
        "id": "Ypwbz8AKre7X",
        "colab_type": "text"
      },
      "source": [
        "![alt text](https://raw.githubusercontent.com/Azb5895/SRA-268-Spring/master/GraphImage/bar%20chart%20spaced.PNG)"
      ]
    },
    {
      "cell_type": "markdown",
      "metadata": {
        "id": "mpfsmmgi7_Vj",
        "colab_type": "text"
      },
      "source": [
        "#### What is this telling us?"
      ]
    },
    {
      "cell_type": "markdown",
      "metadata": {
        "id": "rYLXoMMO7_di",
        "colab_type": "text"
      },
      "source": [
        "The type of graph that represents change over time is a column chart. This charts shows the number of total win points per academic year. This chart uses the spaces in between each set of data to help differentiate the different years the graph is examining. Then the graph uses height to show the value of the total amount of points winning teams scored in that year. This allows us to see that the years 1982 and 2016 had particularly low winning point values compared to other years that all have values between 14k and 16k. "
      ]
    },
    {
      "cell_type": "markdown",
      "metadata": {
        "id": "lFwiHoE-7_jZ",
        "colab_type": "text"
      },
      "source": [
        "### Magnitude\n"
      ]
    },
    {
      "cell_type": "markdown",
      "metadata": {
        "id": "ICQFnXj78EbF",
        "colab_type": "text"
      },
      "source": [
        "![alt text](https://raw.githubusercontent.com/Azb5895/SRA-268-Spring/master/GraphImage/Magnitude.PNG)"
      ]
    },
    {
      "cell_type": "markdown",
      "metadata": {
        "id": "QGG7XYG88Eii",
        "colab_type": "text"
      },
      "source": [
        "#### What is this telling us?"
      ]
    },
    {
      "cell_type": "markdown",
      "metadata": {
        "id": "VS7uGa0l8Eos",
        "colab_type": "text"
      },
      "source": [
        "The graph to represent magnitude is a proportional symbol graph. This graph represents the sum of the winning points for each year represented on the graph. This graph uses size rather than placement or height in order to represent the data. With this graph we can quickly see that the circles for most of the years are about the same except for 2016 and 1983 which are noticibly smaller. This graph is useful for identifying general trends, but due to the graph not having a scale for the data it cannot be used to look at specific data points. "
      ]
    },
    {
      "cell_type": "markdown",
      "metadata": {
        "id": "bEKFxP8R8Evk",
        "colab_type": "text"
      },
      "source": [
        "### Part-to-Whole\n"
      ]
    },
    {
      "cell_type": "markdown",
      "metadata": {
        "id": "WFHlcYKV8E35",
        "colab_type": "text"
      },
      "source": [
        "![alt text](https://raw.githubusercontent.com/Azb5895/SRA-268-Spring/master/GraphImage/pie%20chart.PNG)"
      ]
    },
    {
      "cell_type": "markdown",
      "metadata": {
        "id": "PNSd3wlp8UZH",
        "colab_type": "text"
      },
      "source": [
        "#### What is this telling us?"
      ]
    },
    {
      "cell_type": "markdown",
      "metadata": {
        "id": "y9tb_QRA8aqt",
        "colab_type": "text"
      },
      "source": [
        "The graph representing a part-to-whole type is a pie chart. This pie chart shows the class of the mascot of the losing teams. This graph relies heavily on color unlike other graphs for the viewer to be able to quickly identify different parts of the chart. In this paricular pie chart it is easy to see that over half of the mascots belong to the class mammalia while the largest next class aves is significantly smaller. "
      ]
    }
  ]
}